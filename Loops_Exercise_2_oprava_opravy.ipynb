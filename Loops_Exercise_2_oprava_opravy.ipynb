{
  "nbformat": 4,
  "nbformat_minor": 0,
  "metadata": {
    "colab": {
      "name": "naucse_python_10.ipynb",
      "provenance": [],
      "collapsed_sections": [],
      "authorship_tag": "ABX9TyMvLG1K3/uzUYlnxvOn9LFy",
      "include_colab_link": true
    },
    "kernelspec": {
      "name": "python3",
      "display_name": "Python 3"
    }
  },
  "cells": [
    {
      "cell_type": "markdown",
      "metadata": {
        "id": "view-in-github",
        "colab_type": "text"
      },
      "source": [
        "<a href=\"https://colab.research.google.com/github/LenkaSimlova/naucse-python/blob/LenkaSimlova-patch-1/Loops_Exercise_2_oprava_opravy.ipynb\" target=\"_parent\"><img src=\"https://colab.research.google.com/assets/colab-badge.svg\" alt=\"Open In Colab\"/></a>"
      ]
    },
    {
      "cell_type": "code",
      "metadata": {
        "colab": {
          "base_uri": "https://localhost:8080/"
        },
        "id": "gh2L7e0fNM3w",
        "outputId": "5a05a577-f517-45ce-92ae-c3b6aa2eda56"
      },
      "source": [
        "d = {'a':'alfa', 'b':'bravo', 'c':'charlie', 'd':'delta', \r\n",
        "'e':'echo', 'f':'foxtrot', 'g':'golf', 'h':'hotel', 'i':'india', \r\n",
        "'j':'juliett', 'k':'kilo', 'l':'lima', 'm':'mike', \r\n",
        "'n':'november', 'o':'oscar', 'p':'papa', 'q':'quebec', \r\n",
        "'r':'romeo', 's':'sierra', 't':'tango', 'u':'uniform', \r\n",
        "'v':'victor', 'w':'whiskey', 'x':'x-ray', 'y':'yankee', \r\n",
        "'z':'zulu'}\r\n",
        "\r\n",
        "name = input(\"Your name: \")\r\n",
        "\r\n",
        "for letter in name:\r\n",
        "  print(letter, \"jako\", d.get(letter))\r\n",
        "\r\n"
      ],
      "execution_count": 50,
      "outputs": [
        {
          "output_type": "stream",
          "text": [
            "Your name: lenka\n",
            "l jako lima\n",
            "e jako echo\n",
            "n jako november\n",
            "k jako kilo\n",
            "a jako alfa\n"
          ],
          "name": "stdout"
        }
      ]
    }
  ]
}