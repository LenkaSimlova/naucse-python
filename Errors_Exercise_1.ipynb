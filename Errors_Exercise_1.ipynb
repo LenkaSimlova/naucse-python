{
  "nbformat": 4,
  "nbformat_minor": 0,
  "metadata": {
    "colab": {
      "name": "Untitled4.ipynb",
      "provenance": [],
      "authorship_tag": "ABX9TyOuQGxkGEto/7bUZQ//TodZ",
      "include_colab_link": true
    },
    "kernelspec": {
      "name": "python3",
      "display_name": "Python 3"
    }
  },
  "cells": [
    {
      "cell_type": "markdown",
      "metadata": {
        "id": "view-in-github",
        "colab_type": "text"
      },
      "source": [
        "<a href=\"https://colab.research.google.com/github/LenkaSimlova/naucse-python/blob/main/Errors_Exercise_1.ipynb\" target=\"_parent\"><img src=\"https://colab.research.google.com/assets/colab-badge.svg\" alt=\"Open In Colab\"/></a>"
      ]
    },
    {
      "cell_type": "code",
      "metadata": {
        "colab": {
          "base_uri": "https://localhost:8080/"
        },
        "id": "Vf9rcxwfCi8d",
        "outputId": "9d59bc9c-6bc7-4a4c-a32b-384b6d4c86f1"
      },
      "source": [
        "seasons = ['Spring', 'Summer', 'Fall', 'Winter']\r\n",
        "print('My favorite season is ', seasons[3])"
      ],
      "execution_count": 1,
      "outputs": [
        {
          "output_type": "stream",
          "text": [
            "My favorite season is  Winter\n"
          ],
          "name": "stdout"
        }
      ]
    }
  ]
}