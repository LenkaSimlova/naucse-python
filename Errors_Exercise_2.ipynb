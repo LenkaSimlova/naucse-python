{
  "nbformat": 4,
  "nbformat_minor": 0,
  "metadata": {
    "colab": {
      "name": "Untitled4.ipynb",
      "provenance": [],
      "authorship_tag": "ABX9TyMHlcQVowvFm9nFyZDk4I+L",
      "include_colab_link": true
    },
    "kernelspec": {
      "name": "python3",
      "display_name": "Python 3"
    }
  },
  "cells": [
    {
      "cell_type": "markdown",
      "metadata": {
        "id": "view-in-github",
        "colab_type": "text"
      },
      "source": [
        "<a href=\"https://colab.research.google.com/github/LenkaSimlova/naucse-python/blob/main/Errors_Exercise_2.ipynb\" target=\"_parent\"><img src=\"https://colab.research.google.com/assets/colab-badge.svg\" alt=\"Open In Colab\"/></a>"
      ]
    },
    {
      "cell_type": "code",
      "metadata": {
        "colab": {
          "base_uri": "https://localhost:8080/"
        },
        "id": "Vf9rcxwfCi8d",
        "outputId": "cd365ef1-2f25-4e5e-866a-0e54ffbb0c47"
      },
      "source": [
        "message = 0\r\n",
        "a = 1\r\n",
        "b = 0\r\n",
        "\r\n",
        "for number in range(10):\r\n",
        "  # use a if the number is a multiple of 3, otherwise use b\r\n",
        "  if (number % 3) == 0:\r\n",
        "    message = message + a\r\n",
        "  else:\r\n",
        "    message = message + b\r\n",
        "print(message)"
      ],
      "execution_count": 16,
      "outputs": [
        {
          "output_type": "stream",
          "text": [
            "4\n"
          ],
          "name": "stdout"
        }
      ]
    }
  ]
}