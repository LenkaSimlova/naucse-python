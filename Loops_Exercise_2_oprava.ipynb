{
  "nbformat": 4,
  "nbformat_minor": 0,
  "metadata": {
    "colab": {
      "name": "naucse_python_10.ipynb",
      "provenance": [],
      "collapsed_sections": [],
      "authorship_tag": "ABX9TyPtWrubuAKBrOrOKk3ZKKrn",
      "include_colab_link": true
    },
    "kernelspec": {
      "name": "python3",
      "display_name": "Python 3"
    }
  },
  "cells": [
    {
      "cell_type": "markdown",
      "metadata": {
        "id": "view-in-github",
        "colab_type": "text"
      },
      "source": [
        "<a href=\"https://colab.research.google.com/github/LenkaSimlova/naucse-python/blob/LenkaSimlova-patch-1/Loops_Exercise_2_oprava.ipynb\" target=\"_parent\"><img src=\"https://colab.research.google.com/assets/colab-badge.svg\" alt=\"Open In Colab\"/></a>"
      ]
    },
    {
      "cell_type": "code",
      "metadata": {
        "colab": {
          "base_uri": "https://localhost:8080/"
        },
        "id": "gh2L7e0fNM3w",
        "outputId": "61798d19-8f84-43c9-a52e-62ac8a8e5198"
      },
      "source": [
        "d = {'a':'alfa', 'b':'bravo', 'c':'charlie', 'd':'delta', \r\n",
        "'e':'echo', 'f':'foxtrot', 'g':'golf', 'h':'hotel', 'i':'india', \r\n",
        "'j':'juliett', 'k':'kilo', 'l':'lima', 'm':'mike', \r\n",
        "'n':'november', 'o':'oscar', 'p':'papa', 'q':'quebec', \r\n",
        "'r':'romeo', 's':'sierra', 't':'tango', 'u':'uniform', \r\n",
        "'v':'victor', 'w':'whiskey', 'x':'x-ray', 'y':'yankee', \r\n",
        "'z':'zulu'}\r\n",
        "\r\n",
        "name = input(\"Your name: \")\r\n",
        "\r\n",
        "for letter in name:\r\n",
        "  print(letter, d.get(letter))\r\n",
        "\r\n"
      ],
      "execution_count": 49,
      "outputs": [
        {
          "output_type": "stream",
          "text": [
            "Your name: lenka\n",
            "l lima\n",
            "e echo\n",
            "n november\n",
            "k kilo\n",
            "a alfa\n"
          ],
          "name": "stdout"
        }
      ]
    }
  ]
}