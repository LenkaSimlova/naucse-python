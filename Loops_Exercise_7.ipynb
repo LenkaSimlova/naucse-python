{
  "nbformat": 4,
  "nbformat_minor": 0,
  "metadata": {
    "colab": {
      "name": "naucse_python_10.ipynb",
      "provenance": [],
      "collapsed_sections": [],
      "authorship_tag": "ABX9TyOGvcigpzj5iLSEGz1MImwm",
      "include_colab_link": true
    },
    "kernelspec": {
      "name": "python3",
      "display_name": "Python 3"
    }
  },
  "cells": [
    {
      "cell_type": "markdown",
      "metadata": {
        "id": "view-in-github",
        "colab_type": "text"
      },
      "source": [
        "<a href=\"https://colab.research.google.com/github/LenkaSimlova/naucse-python/blob/main/Loops_Exercise_7.ipynb\" target=\"_parent\"><img src=\"https://colab.research.google.com/assets/colab-badge.svg\" alt=\"Open In Colab\"/></a>"
      ]
    },
    {
      "cell_type": "code",
      "metadata": {
        "colab": {
          "base_uri": "https://localhost:8080/"
        },
        "id": "qFvXWwo_1lfi",
        "outputId": "ccdfdccd-f1a1-4431-97c7-f0da96436347"
      },
      "source": [
        "scores = {'John' : 10, 'Emily' : 35, 'Matthew' : 50}\r\n",
        "\r\n",
        "scores_3 = {x: x for x in scores.values()}\r\n",
        "\r\n",
        "scores_3 = {x: y*3 for x, y in scores.items()}\r\n",
        "\r\n",
        "scores_3.items()"
      ],
      "execution_count": 130,
      "outputs": [
        {
          "output_type": "execute_result",
          "data": {
            "text/plain": [
              "dict_items([('John', 30), ('Emily', 105), ('Matthew', 150)])"
            ]
          },
          "metadata": {
            "tags": []
          },
          "execution_count": 130
        }
      ]
    }
  ]
}