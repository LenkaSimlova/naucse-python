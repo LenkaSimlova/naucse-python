{
  "nbformat": 4,
  "nbformat_minor": 0,
  "metadata": {
    "colab": {
      "name": "Untitled4.ipynb",
      "provenance": [],
      "authorship_tag": "ABX9TyNptBtAGm4qIh3UCQGCMVaw",
      "include_colab_link": true
    },
    "kernelspec": {
      "name": "python3",
      "display_name": "Python 3"
    }
  },
  "cells": [
    {
      "cell_type": "markdown",
      "metadata": {
        "id": "view-in-github",
        "colab_type": "text"
      },
      "source": [
        "<a href=\"https://colab.research.google.com/github/LenkaSimlova/naucse-python/blob/main/Errors_Exercise_4.ipynb\" target=\"_parent\"><img src=\"https://colab.research.google.com/assets/colab-badge.svg\" alt=\"Open In Colab\"/></a>"
      ]
    },
    {
      "cell_type": "code",
      "metadata": {
        "colab": {
          "base_uri": "https://localhost:8080/"
        },
        "id": "VnYrctQLmXKh",
        "outputId": "7b1808b6-16f9-4005-8cf1-48c80fa853e9"
      },
      "source": [
        "def deleni_cisla():\r\n",
        "    while True:\r\n",
        "        x = input('Zadej dvě čísla: ')\r\n",
        "        try:\r\n",
        "            return x/y\r\n",
        "        except ZeroDivisionError:\r\n",
        "            print('To nebylo číslo!')\r\n",
        "\r\n",
        "nacti_cislo(20, 5)"
      ],
      "execution_count": 20,
      "outputs": [
        {
          "output_type": "stream",
          "text": [
            "Zadej číslo: 20, 5\n"
          ],
          "name": "stdout"
        },
        {
          "output_type": "execute_result",
          "data": {
            "text/plain": [
              "4.0"
            ]
          },
          "metadata": {
            "tags": []
          },
          "execution_count": 20
        }
      ]
    },
    {
      "cell_type": "code",
      "metadata": {
        "colab": {
          "base_uri": "https://localhost:8080/"
        },
        "id": "jMT_Twsoqwcv",
        "outputId": "400189d7-879d-409e-d94d-1da832762fcc"
      },
      "source": [
        "def deleni_cisel():\r\n",
        "  while True:\r\n",
        "    x = input('Zadej první číslo: ')\r\n",
        "    y = input('Zadej druhé číslo: ')\r\n",
        "    try:\r\n",
        "      return int(x)/int(y)\r\n",
        "    except ZeroDivisionError:\r\n",
        "      print('Dělení nulou! Zadejte čísla znovu!')\r\n",
        "    except ValueError:\r\n",
        "      print('Toto není číslo! Zadejte čísla znovu!')\r\n",
        "\r\n",
        "deleni_cisel()"
      ],
      "execution_count": 46,
      "outputs": [
        {
          "output_type": "stream",
          "text": [
            "Zadej první číslo: 20\n",
            "Zadej druhé číslo: 0\n",
            "Dělení nulou! Zadejte čísla znovu!\n",
            "Zadej první číslo: 20\n",
            "Zadej druhé číslo: k\n",
            "Toto není číslo! Zadejte čísla znovu!\n",
            "Zadej první číslo: 20\n",
            "Zadej druhé číslo: 5\n"
          ],
          "name": "stdout"
        },
        {
          "output_type": "execute_result",
          "data": {
            "text/plain": [
              "4.0"
            ]
          },
          "metadata": {
            "tags": []
          },
          "execution_count": 46
        }
      ]
    }
  ]
}