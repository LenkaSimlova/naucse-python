{
  "nbformat": 4,
  "nbformat_minor": 0,
  "metadata": {
    "colab": {
      "name": "naucse_python_10.ipynb",
      "provenance": [],
      "collapsed_sections": [],
      "authorship_tag": "ABX9TyMZESF8S0ds8gn2W9ttItuS",
      "include_colab_link": true
    },
    "kernelspec": {
      "name": "python3",
      "display_name": "Python 3"
    }
  },
  "cells": [
    {
      "cell_type": "markdown",
      "metadata": {
        "id": "view-in-github",
        "colab_type": "text"
      },
      "source": [
        "<a href=\"https://colab.research.google.com/github/LenkaSimlova/naucse-python/blob/main/Loops_Exercise_5.ipynb\" target=\"_parent\"><img src=\"https://colab.research.google.com/assets/colab-badge.svg\" alt=\"Open In Colab\"/></a>"
      ]
    },
    {
      "cell_type": "code",
      "metadata": {
        "colab": {
          "base_uri": "https://localhost:8080/"
        },
        "id": "gZAHOcubJ3q5",
        "outputId": "05f390da-6441-4e68-f50c-691599aaa2d9"
      },
      "source": [
        "numbers_base = []\r\n",
        "numbers_multi = []\r\n",
        "\r\n",
        "for number in range(1, 6):\r\n",
        "  numbers_base.append(number)\r\n",
        "  print(number)\r\n",
        "\r\n",
        "for number in numbers_base:\r\n",
        "  numbers_multi.append(number**2)\r\n",
        "  print(number, \" is my favorite number\")\r\n",
        "\r\n",
        "\r\n"
      ],
      "execution_count": 131,
      "outputs": [
        {
          "output_type": "stream",
          "text": [
            "1\n",
            "2\n",
            "3\n",
            "4\n",
            "5\n",
            "1  is my favorite number\n",
            "2  is my favorite number\n",
            "3  is my favorite number\n",
            "4  is my favorite number\n",
            "5  is my favorite number\n"
          ],
          "name": "stdout"
        }
      ]
    }
  ]
}