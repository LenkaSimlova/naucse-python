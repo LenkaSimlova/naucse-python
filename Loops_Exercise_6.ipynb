{
  "nbformat": 4,
  "nbformat_minor": 0,
  "metadata": {
    "colab": {
      "name": "naucse_python_10.ipynb",
      "provenance": [],
      "collapsed_sections": [],
      "authorship_tag": "ABX9TyMdYaChIAM7DaVCrYESAFBS",
      "include_colab_link": true
    },
    "kernelspec": {
      "name": "python3",
      "display_name": "Python 3"
    }
  },
  "cells": [
    {
      "cell_type": "markdown",
      "metadata": {
        "id": "view-in-github",
        "colab_type": "text"
      },
      "source": [
        "<a href=\"https://colab.research.google.com/github/LenkaSimlova/naucse-python/blob/main/Loops_Exercise_6.ipynb\" target=\"_parent\"><img src=\"https://colab.research.google.com/assets/colab-badge.svg\" alt=\"Open In Colab\"/></a>"
      ]
    },
    {
      "cell_type": "code",
      "metadata": {
        "colab": {
          "base_uri": "https://localhost:8080/"
        },
        "id": "tp7YdcUhXWfX",
        "outputId": "3a12ae3e-0848-47a9-a1a4-3e9ed602ace6"
      },
      "source": [
        "A = []\r\n",
        "\r\n",
        "seq = 'ACTGCTCAAG'\r\n",
        "\r\n",
        "for index, letter in enumerate(seq):\r\n",
        "  if letter == 'A':\r\n",
        "    A.append(index)\r\n",
        "\r\n",
        "A"
      ],
      "execution_count": 231,
      "outputs": [
        {
          "output_type": "execute_result",
          "data": {
            "text/plain": [
              "[0, 7, 8]"
            ]
          },
          "metadata": {
            "tags": []
          },
          "execution_count": 231
        }
      ]
    }
  ]
}