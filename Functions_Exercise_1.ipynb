{
  "nbformat": 4,
  "nbformat_minor": 0,
  "metadata": {
    "colab": {
      "name": "Untitled4.ipynb",
      "provenance": [],
      "authorship_tag": "ABX9TyPItNpiBA8XJUkTMwrrU2sP",
      "include_colab_link": true
    },
    "kernelspec": {
      "name": "python3",
      "display_name": "Python 3"
    }
  },
  "cells": [
    {
      "cell_type": "markdown",
      "metadata": {
        "id": "view-in-github",
        "colab_type": "text"
      },
      "source": [
        "<a href=\"https://colab.research.google.com/github/LenkaSimlova/naucse-python/blob/main/Functions_Exercise_1.ipynb\" target=\"_parent\"><img src=\"https://colab.research.google.com/assets/colab-badge.svg\" alt=\"Open In Colab\"/></a>"
      ]
    },
    {
      "cell_type": "code",
      "metadata": {
        "colab": {
          "base_uri": "https://localhost:8080/"
        },
        "id": "XnyxtYOdH953",
        "outputId": "a6ab1e71-fce5-4dd4-8761-153fb6d34169"
      },
      "source": [
        "def deleni(x,y):\r\n",
        "  z = x / y\r\n",
        "  return z\r\n",
        "\r\n",
        "print(deleni(50,10))"
      ],
      "execution_count": 1,
      "outputs": [
        {
          "output_type": "stream",
          "text": [
            "5.0\n"
          ],
          "name": "stdout"
        }
      ]
    },
    {
      "cell_type": "code",
      "metadata": {
        "colab": {
          "base_uri": "https://localhost:8080/"
        },
        "id": "TE0YU04cxtce",
        "outputId": "b811202b-1854-4999-a82a-94f5d0c71e36"
      },
      "source": [
        "list_X = []\r\n",
        "for cislo in range(1,11):\r\n",
        "  list_X.append(cislo)\r\n",
        "\r\n",
        "def secti(A):\r\n",
        "  soucet = 0\r\n",
        "  for x in A:\r\n",
        "    soucet += x\r\n",
        "  return soucet\r\n",
        "\r\n",
        "print(secti(list_X))"
      ],
      "execution_count": 2,
      "outputs": [
        {
          "output_type": "stream",
          "text": [
            "55\n"
          ],
          "name": "stdout"
        }
      ]
    }
  ]
}