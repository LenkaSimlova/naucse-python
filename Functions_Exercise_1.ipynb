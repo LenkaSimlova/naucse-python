{
  "nbformat": 4,
  "nbformat_minor": 0,
  "metadata": {
    "colab": {
      "name": "Untitled4.ipynb",
      "provenance": [],
      "authorship_tag": "ABX9TyNcPKOCw0pq15kgTIJQ5O0p",
      "include_colab_link": true
    },
    "kernelspec": {
      "name": "python3",
      "display_name": "Python 3"
    }
  },
  "cells": [
    {
      "cell_type": "markdown",
      "metadata": {
        "id": "view-in-github",
        "colab_type": "text"
      },
      "source": [
        "<a href=\"https://colab.research.google.com/github/LenkaSimlova/naucse-python/blob/main/Functions_Exercise_1.ipynb\" target=\"_parent\"><img src=\"https://colab.research.google.com/assets/colab-badge.svg\" alt=\"Open In Colab\"/></a>"
      ]
    },
    {
      "cell_type": "code",
      "metadata": {
        "colab": {
          "base_uri": "https://localhost:8080/"
        },
        "id": "XnyxtYOdH953",
        "outputId": "29e8e473-19a1-45d0-c474-27285d185025"
      },
      "source": [
        "def deleni(x,y):\r\n",
        "  z = x / y\r\n",
        "  return z\r\n",
        "\r\n",
        "res = deleni(50,10)\r\n",
        "print(res)"
      ],
      "execution_count": null,
      "outputs": [
        {
          "output_type": "stream",
          "text": [
            "5.0\n"
          ],
          "name": "stdout"
        }
      ]
    },
    {
      "cell_type": "code",
      "metadata": {
        "colab": {
          "base_uri": "https://localhost:8080/"
        },
        "id": "TE0YU04cxtce",
        "outputId": "fa788cca-5dc0-4106-ca95-e7011f49d852"
      },
      "source": [
        "list_X = []\r\n",
        "for cislo in range(1,11):\r\n",
        "  list_X.append(cislo)\r\n",
        "\r\n",
        "def secti(A):\r\n",
        "  soucet = 0\r\n",
        "  for x in A:\r\n",
        "    soucet += x\r\n",
        "  return soucet\r\n",
        "\r\n",
        "res = secti(list_X)\r\n",
        "print(res)"
      ],
      "execution_count": 1,
      "outputs": [
        {
          "output_type": "stream",
          "text": [
            "55\n"
          ],
          "name": "stdout"
        }
      ]
    }
  ]
}