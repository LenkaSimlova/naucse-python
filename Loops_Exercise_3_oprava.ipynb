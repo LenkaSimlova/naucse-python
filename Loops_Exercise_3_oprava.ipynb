{
  "nbformat": 4,
  "nbformat_minor": 0,
  "metadata": {
    "colab": {
      "name": "naucse_python_10.ipynb",
      "provenance": [],
      "collapsed_sections": [],
      "authorship_tag": "ABX9TyMxqCms6+pmKnMyy0j7+ozP",
      "include_colab_link": true
    },
    "kernelspec": {
      "name": "python3",
      "display_name": "Python 3"
    }
  },
  "cells": [
    {
      "cell_type": "markdown",
      "metadata": {
        "id": "view-in-github",
        "colab_type": "text"
      },
      "source": [
        "<a href=\"https://colab.research.google.com/github/LenkaSimlova/naucse-python/blob/LenkaSimlova-patch-1/Loops_Exercise_3_oprava.ipynb\" target=\"_parent\"><img src=\"https://colab.research.google.com/assets/colab-badge.svg\" alt=\"Open In Colab\"/></a>"
      ]
    },
    {
      "cell_type": "code",
      "metadata": {
        "colab": {
          "base_uri": "https://localhost:8080/"
        },
        "id": "gh2L7e0fNM3w",
        "outputId": "0c3d0dc8-2dd0-46fd-c067-d7d1b19c00cc"
      },
      "source": [
        "a = [[1,2,3],\r\n",
        "     [4,5,6],\r\n",
        "     [7,8,9]]\r\n",
        "\r\n",
        "b = [[a[0][0], a[1][0], a[2][0]],\r\n",
        "     [a[0][1], a[1][1], a[2][1]],\r\n",
        "     [a[0][2], a[1][2], a[2][2]]]\r\n",
        "\r\n",
        "b"
      ],
      "execution_count": 87,
      "outputs": [
        {
          "output_type": "execute_result",
          "data": {
            "text/plain": [
              "[[1, 4, 7], [2, 5, 8], [3, 6, 9]]"
            ]
          },
          "metadata": {
            "tags": []
          },
          "execution_count": 87
        }
      ]
    },
    {
      "cell_type": "code",
      "metadata": {
        "colab": {
          "base_uri": "https://localhost:8080/",
          "height": 129
        },
        "id": "KkAPo2Fl07W2",
        "outputId": "bd23ee59-0bc4-4190-f2f6-96815bb73c8c"
      },
      "source": [
        "a = [[1,2,3],\r\n",
        "     [4,5,6],\r\n",
        "     [7,8,9]]\r\n",
        "\r\n",
        "for x in a:\r\n",
        "  \r\n",
        "\r\n",
        "b"
      ],
      "execution_count": 108,
      "outputs": [
        {
          "output_type": "error",
          "ename": "SyntaxError",
          "evalue": "ignored",
          "traceback": [
            "\u001b[0;36m  File \u001b[0;32m\"<ipython-input-108-c6fb8eb7b414>\"\u001b[0;36m, line \u001b[0;32m5\u001b[0m\n\u001b[0;31m    for x in a if a[0][0]\u001b[0m\n\u001b[0m                         ^\u001b[0m\n\u001b[0;31mSyntaxError\u001b[0m\u001b[0;31m:\u001b[0m invalid syntax\n"
          ]
        }
      ]
    }
  ]
}