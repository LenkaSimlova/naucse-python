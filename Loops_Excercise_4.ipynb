{
  "nbformat": 4,
  "nbformat_minor": 0,
  "metadata": {
    "colab": {
      "name": "Untitled3.ipynb",
      "provenance": [],
      "collapsed_sections": [],
      "include_colab_link": true
    },
    "kernelspec": {
      "name": "python3",
      "display_name": "Python 3"
    }
  },
  "cells": [
    {
      "cell_type": "markdown",
      "metadata": {
        "id": "view-in-github",
        "colab_type": "text"
      },
      "source": [
        "<a href=\"https://colab.research.google.com/github/LenkaSimlova/naucse-python/blob/main/Loops_Excercise_4.ipynb\" target=\"_parent\"><img src=\"https://colab.research.google.com/assets/colab-badge.svg\" alt=\"Open In Colab\"/></a>"
      ]
    },
    {
      "cell_type": "code",
      "metadata": {
        "colab": {
          "base_uri": "https://localhost:8080/"
        },
        "id": "edCCCfqdCECC",
        "outputId": "6aca261a-ae5f-4729-9a7d-8e2eab5db26c"
      },
      "source": [
        "x = str(input('Check item: '))\n",
        "\n",
        "shopping_list = ['fruit', 'vegetables', 'bread', 'milk', 'butter']\n",
        "if x in shopping_list:\n",
        "  print(x + ' is in the list')\n",
        "else:\n",
        "  shopping_list.append(x)\n",
        "\n",
        "shopping_list"
      ],
      "execution_count": 726,
      "outputs": [
        {
          "output_type": "stream",
          "text": [
            "Check item: rum\n"
          ],
          "name": "stdout"
        },
        {
          "output_type": "execute_result",
          "data": {
            "text/plain": [
              "['fruit', 'vegetables', 'bread', 'milk', 'butter', 'rum']"
            ]
          },
          "metadata": {
            "tags": []
          },
          "execution_count": 726
        }
      ]
    }
  ]
}