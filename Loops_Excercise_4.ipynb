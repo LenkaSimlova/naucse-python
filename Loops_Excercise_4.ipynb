{
  "nbformat": 4,
  "nbformat_minor": 0,
  "metadata": {
    "colab": {
      "name": "Untitled3.ipynb",
      "provenance": [],
      "collapsed_sections": [],
      "include_colab_link": true
    },
    "kernelspec": {
      "name": "python3",
      "display_name": "Python 3"
    }
  },
  "cells": [
    {
      "cell_type": "markdown",
      "metadata": {
        "id": "view-in-github",
        "colab_type": "text"
      },
      "source": [
        "<a href=\"https://colab.research.google.com/github/LenkaSimlova/naucse-python/blob/LenkaSimlova-patch-1/Loops_Excercise_4.ipynb\" target=\"_parent\"><img src=\"https://colab.research.google.com/assets/colab-badge.svg\" alt=\"Open In Colab\"/></a>"
      ]
    },
    {
      "cell_type": "code",
      "metadata": {
        "colab": {
          "base_uri": "https://localhost:8080/"
        },
        "id": "edCCCfqdCECC",
        "outputId": "165dd33e-b3d1-4d65-a17b-3ae26679fbb4"
      },
      "source": [
        "x = str(input('Check item: '))\n",
        "\n",
        "shopping_list = ['fruit', 'vegetables', 'bread', 'milk', 'butter']\n",
        "if x in shopping_list:\n",
        "  print(x, ' is in the list')\n",
        "else:\n",
        "  print(x, 'is not in the list. Add it!')\n",
        "  shopping_list.append(x)\n",
        "\n",
        "shopping_list"
      ],
      "execution_count": 14,
      "outputs": [
        {
          "output_type": "stream",
          "text": [
            "Check item: juice\n",
            "juice is not in the list. Add it!\n"
          ],
          "name": "stdout"
        },
        {
          "output_type": "execute_result",
          "data": {
            "text/plain": [
              "['fruit', 'vegetables', 'bread', 'milk', 'butter', 'juice']"
            ]
          },
          "metadata": {
            "tags": []
          },
          "execution_count": 14
        }
      ]
    }
  ]
}