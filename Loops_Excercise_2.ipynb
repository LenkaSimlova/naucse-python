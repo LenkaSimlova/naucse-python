{
  "nbformat": 4,
  "nbformat_minor": 0,
  "metadata": {
    "colab": {
      "name": "Untitled3.ipynb",
      "provenance": [],
      "collapsed_sections": [],
      "include_colab_link": true
    },
    "kernelspec": {
      "name": "python3",
      "display_name": "Python 3"
    }
  },
  "cells": [
    {
      "cell_type": "markdown",
      "metadata": {
        "id": "view-in-github",
        "colab_type": "text"
      },
      "source": [
        "<a href=\"https://colab.research.google.com/github/LenkaSimlova/naucse-python/blob/main/Loops_Excercise_2.ipynb\" target=\"_parent\"><img src=\"https://colab.research.google.com/assets/colab-badge.svg\" alt=\"Open In Colab\"/></a>"
      ]
    },
    {
      "cell_type": "code",
      "metadata": {
        "colab": {
          "base_uri": "https://localhost:8080/"
        },
        "id": "vH7o2mOg8E1y",
        "outputId": "453c9d95-b837-4f77-ef49-8cf8f2d61b37"
      },
      "source": [
        "name = str(input('Your name: '))\n",
        "d = {'a':'alfa', 'b':'bravo', 'c':'charlie', 'd':'delta', \n",
        "'e':'echo', 'f':'foxtrot', 'g':'golf', 'h':'hotel', 'i':'india', \n",
        "'j':'juliett', 'k':'kilo', 'l':'lima', 'm':'mike', \n",
        "'n':'november', 'o':'oscar', 'p':'papa', 'q':'quebec', \n",
        "'r':'romeo', 's':'sierra', 't':'tango', 'u':'uniform', \n",
        "'v':'victor', 'w':'whiskey', 'x':'x-ray', 'y':'yankee', \n",
        "'z':'zulu'}\n",
        "for letter in name:\n",
        "  print(letter, d.get(letter))"
      ],
      "execution_count": 351,
      "outputs": [
        {
          "output_type": "stream",
          "text": [
            "Your name: Lenka\n",
            "L\n",
            "e\n",
            "n\n",
            "k\n",
            "a\n"
          ],
          "name": "stdout"
        }
      ]
    }
  ]
}
