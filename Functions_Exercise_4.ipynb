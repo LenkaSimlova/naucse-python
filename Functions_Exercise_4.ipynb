{
  "nbformat": 4,
  "nbformat_minor": 0,
  "metadata": {
    "colab": {
      "name": "Untitled4.ipynb",
      "provenance": [],
      "authorship_tag": "ABX9TyM1ud07FPItSoDDKcHBEJTn",
      "include_colab_link": true
    },
    "kernelspec": {
      "name": "python3",
      "display_name": "Python 3"
    }
  },
  "cells": [
    {
      "cell_type": "markdown",
      "metadata": {
        "id": "view-in-github",
        "colab_type": "text"
      },
      "source": [
        "<a href=\"https://colab.research.google.com/github/LenkaSimlova/naucse-python/blob/main/Functions_Exercise_4.ipynb\" target=\"_parent\"><img src=\"https://colab.research.google.com/assets/colab-badge.svg\" alt=\"Open In Colab\"/></a>"
      ]
    },
    {
      "cell_type": "code",
      "metadata": {
        "colab": {
          "base_uri": "https://localhost:8080/"
        },
        "id": "N6LtpgOGc9qn",
        "outputId": "af004f30-cae6-46be-e528-7fb17bc0e5ef"
      },
      "source": [
        "x = 500\r\n",
        "y = 74\r\n",
        "\r\n",
        "def meal_vouchers(x, y):\r\n",
        "  z = x % y\r\n",
        "  a = (x - z) / y\r\n",
        "  return('Lunch cost: '+str(x)+' CZK', 'Pay in cash: '+str(z)+' CZK', 'Pay in meal vouchers: '+str(a)+' pcs, '+str(y)+' CZK each')\r\n",
        "\r\n",
        "print (meal_vouchers(x, y))"
      ],
      "execution_count": 5,
      "outputs": [
        {
          "output_type": "stream",
          "text": [
            "('Lunch cost: 500 CZK', 'Pay in cash: 56 CZK', 'Pay in meal vouchers: 6.0 pcs, 74 CZK each')\n"
          ],
          "name": "stdout"
        }
      ]
    }
  ]
}