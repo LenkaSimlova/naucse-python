{
  "nbformat": 4,
  "nbformat_minor": 0,
  "metadata": {
    "colab": {
      "name": "Untitled4.ipynb",
      "provenance": [],
      "authorship_tag": "ABX9TyMNP5jFSLZPiw+b0zCAXBWG",
      "include_colab_link": true
    },
    "kernelspec": {
      "name": "python3",
      "display_name": "Python 3"
    }
  },
  "cells": [
    {
      "cell_type": "markdown",
      "metadata": {
        "id": "view-in-github",
        "colab_type": "text"
      },
      "source": [
        "<a href=\"https://colab.research.google.com/github/LenkaSimlova/naucse-python/blob/main/Functions_Exercise_2.ipynb\" target=\"_parent\"><img src=\"https://colab.research.google.com/assets/colab-badge.svg\" alt=\"Open In Colab\"/></a>"
      ]
    },
    {
      "cell_type": "code",
      "metadata": {
        "colab": {
          "base_uri": "https://localhost:8080/"
        },
        "id": "CprasmZv0e-F",
        "outputId": "7d23031c-ad14-4669-d699-5e7371739ac4"
      },
      "source": [
        "list_1 = []\r\n",
        "for cislo in range(1,4):\r\n",
        "  list_1.append(cislo)\r\n",
        "\r\n",
        "list_2 = []\r\n",
        "for cislo in range(1,7):\r\n",
        "  list_2.append(cislo)\r\n",
        "\r\n",
        "compare_list = (\r\n",
        "    lambda x: print('big list') if len(x) > 5 else\r\n",
        "    print('small list'))\r\n",
        "\r\n",
        "compare_list(list_2)"
      ],
      "execution_count": 22,
      "outputs": [
        {
          "output_type": "stream",
          "text": [
            "big list\n"
          ],
          "name": "stdout"
        }
      ]
    }
  ]
}