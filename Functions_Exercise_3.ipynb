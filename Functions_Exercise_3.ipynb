{
  "nbformat": 4,
  "nbformat_minor": 0,
  "metadata": {
    "colab": {
      "name": "Untitled4.ipynb",
      "provenance": [],
      "authorship_tag": "ABX9TyOP9MWxD6QaPsaeOZLy+s2g",
      "include_colab_link": true
    },
    "kernelspec": {
      "name": "python3",
      "display_name": "Python 3"
    }
  },
  "cells": [
    {
      "cell_type": "markdown",
      "metadata": {
        "id": "view-in-github",
        "colab_type": "text"
      },
      "source": [
        "<a href=\"https://colab.research.google.com/github/LenkaSimlova/naucse-python/blob/main/Functions_Exercise_3.ipynb\" target=\"_parent\"><img src=\"https://colab.research.google.com/assets/colab-badge.svg\" alt=\"Open In Colab\"/></a>"
      ]
    },
    {
      "cell_type": "code",
      "metadata": {
        "colab": {
          "base_uri": "https://localhost:8080/"
        },
        "id": "NOpsqAUpX9pN",
        "outputId": "5b9a1e62-188e-4731-c90f-da11996ce431"
      },
      "source": [
        "String: \"\"\"Peter Piper picked a peck of pickled peppers. A peck of \r\n",
        "pickled peppers Peter Piper picked.If Peter Piper picked a peck \r\n",
        "of pickled peppers, where’s the peck of pickled peppers Peter \r\n",
        "Piper picked?\"\"\"\r\n",
        "\r\n",
        "def string_upper_lower(i):\r\n",
        "  count_upper = 0\r\n",
        "  count_lower = 0\r\n",
        "  for i in String:\r\n",
        "    if i.isupper():\r\n",
        "      count_upper += 1\r\n",
        "    if i.islower():\r\n",
        "      count_lower += 1\r\n",
        "  return('Uppercase letters: '+str(count_upper),'Lowercase letters: '+str(count_lower))\r\n",
        "\r\n",
        "print(string_upper_lower(String))"
      ],
      "execution_count": 49,
      "outputs": [
        {
          "output_type": "stream",
          "text": [
            "('Uppercase letters: 10', 'Lowercase letters: 148')\n"
          ],
          "name": "stdout"
        }
      ]
    }
  ]
}