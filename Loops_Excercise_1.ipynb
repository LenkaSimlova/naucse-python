{
  "nbformat": 4,
  "nbformat_minor": 0,
  "metadata": {
    "colab": {
      "name": "Untitled3.ipynb",
      "provenance": [],
      "collapsed_sections": [],
      "include_colab_link": true
    },
    "kernelspec": {
      "name": "python3",
      "display_name": "Python 3"
    }
  },
  "cells": [
    {
      "cell_type": "markdown",
      "metadata": {
        "id": "view-in-github",
        "colab_type": "text"
      },
      "source": [
        "<a href=\"https://colab.research.google.com/github/LenkaSimlova/naucse-python/blob/main/Loops_Excercise_1.ipynb\" target=\"_parent\"><img src=\"https://colab.research.google.com/assets/colab-badge.svg\" alt=\"Open In Colab\"/></a>"
      ]
    },
    {
      "cell_type": "code",
      "metadata": {
        "id": "vH7o2mOg8E1y",
        "outputId": "964ca63c-9229-4011-d130-be70ca9adb88",
        "colab": {
          "base_uri": "https://localhost:8080/"
        }
      },
      "source": [
        "names_list = ['Jiri', 'Jan', 'Marie', 'Petr', 'Jana', 'Josef', \n",
        "'Pavel', 'Martin', 'Jaroslav', 'Tomas', 'Eva', 'Miroslav', \n",
        "'Hana', 'Anna', 'Zdenek', 'Frantisek', 'Vaclav', 'Michal', \n",
        "'Lenka', 'Katerina']\n",
        "name = str(input('Your name: '))\n",
        "if name in names_list:\n",
        "  print('Welcome!')\n",
        "else:\n",
        "  print('Go away!')"
      ],
      "execution_count": 43,
      "outputs": [
        {
          "output_type": "stream",
          "text": [
            "Your name: Kateřina\n",
            "Go away!\n"
          ],
          "name": "stdout"
        }
      ]
    }
  ]
}