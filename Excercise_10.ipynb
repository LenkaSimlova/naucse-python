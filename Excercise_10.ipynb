{
  "nbformat": 4,
  "nbformat_minor": 0,
  "metadata": {
    "colab": {
      "name": "Untitled3.ipynb",
      "provenance": [],
      "collapsed_sections": [],
      "authorship_tag": "ABX9TyMflWA6I3Jpo58rnM6QCaUA",
      "include_colab_link": true
    },
    "kernelspec": {
      "name": "python3",
      "display_name": "Python 3"
    }
  },
  "cells": [
    {
      "cell_type": "markdown",
      "metadata": {
        "id": "view-in-github",
        "colab_type": "text"
      },
      "source": [
        "<a href=\"https://colab.research.google.com/github/LenkaSimlova/naucse-python/blob/main/Excercise_10.ipynb\" target=\"_parent\"><img src=\"https://colab.research.google.com/assets/colab-badge.svg\" alt=\"Open In Colab\"/></a>"
      ]
    },
    {
      "cell_type": "code",
      "metadata": {
        "colab": {
          "base_uri": "https://localhost:8080/"
        },
        "id": "GHCfSgqXijc9",
        "outputId": "6437a2da-beb7-40b3-cf0f-4a78e62e76e5"
      },
      "source": [
        "d = {'payton':'An interpreted, object-oriented programming language'}\n",
        "del d['payton']\n",
        "d['Surename_1', 'Name_1'] = '4501'\n",
        "d['Surename_2', 'Name_2'] = '4502'\n",
        "d['Surename_3', 'Name_3'] = '4503'\n",
        "d.keys()"
      ],
      "execution_count": 273,
      "outputs": [
        {
          "output_type": "execute_result",
          "data": {
            "text/plain": [
              "dict_keys([('Surename_1', 'Name_1'), ('Surename_2', 'Name_2'), ('Surename_3', 'Name_3')])"
            ]
          },
          "metadata": {
            "tags": []
          },
          "execution_count": 273
        }
      ]
    }
  ]
}