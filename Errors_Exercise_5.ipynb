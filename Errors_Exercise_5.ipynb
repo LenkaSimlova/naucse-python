{
  "nbformat": 4,
  "nbformat_minor": 0,
  "metadata": {
    "colab": {
      "name": "Untitled4.ipynb",
      "provenance": [],
      "authorship_tag": "ABX9TyNoABybL2ShyoFPdEUDs2Mm",
      "include_colab_link": true
    },
    "kernelspec": {
      "name": "python3",
      "display_name": "Python 3"
    }
  },
  "cells": [
    {
      "cell_type": "markdown",
      "metadata": {
        "id": "view-in-github",
        "colab_type": "text"
      },
      "source": [
        "<a href=\"https://colab.research.google.com/github/LenkaSimlova/naucse-python/blob/main/Errors_Exercise_5.ipynb\" target=\"_parent\"><img src=\"https://colab.research.google.com/assets/colab-badge.svg\" alt=\"Open In Colab\"/></a>"
      ]
    },
    {
      "cell_type": "code",
      "metadata": {
        "colab": {
          "base_uri": "https://localhost:8080/"
        },
        "id": "NtEgL2Le32bl",
        "outputId": "4c9e047b-4fa6-4276-d7c6-9b0ba78d698b"
      },
      "source": [
        "year = int(input(\"Greetings! What is your year of origin? \"))\r\n",
        "if year <= 1900:\r\n",
        "  print (\"Woah, that's the past!\")\r\n",
        "elif year > 1900 and year <= 2020:\r\n",
        "  print (\"That's totally the present!\")\r\n",
        "else:\r\n",
        "  print (\"Far out, that's the future!!\")"
      ],
      "execution_count": 22,
      "outputs": [
        {
          "output_type": "stream",
          "text": [
            "Greetings! What is your year of origin? 2021\n",
            "Far out, that's the future!!\n"
          ],
          "name": "stdout"
        }
      ]
    }
  ]
}